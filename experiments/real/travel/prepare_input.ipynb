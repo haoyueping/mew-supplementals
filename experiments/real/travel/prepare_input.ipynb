{
 "cells": [
  {
   "cell_type": "code",
   "execution_count": null,
   "metadata": {},
   "outputs": [],
   "source": [
    "import pandas as pd\n",
    "\n",
    "from ppref.preferences.special import PartitionedPreferences"
   ]
  },
  {
   "cell_type": "code",
   "execution_count": null,
   "metadata": {
    "pycharm": {
     "name": "#%%\n"
    }
   },
   "outputs": [],
   "source": [
    "df = pd.read_csv('google_review_ratings.csv', index_col='User')\n",
    "df.drop(columns='Unnamed: 25', inplace=True)\n",
    "df.dropna(inplace=True)\n",
    "df.columns = list(range(df.shape[1]))\n",
    "df = df.astype(float)\n",
    "df.sample(n=5)"
   ]
  },
  {
   "cell_type": "code",
   "execution_count": null,
   "metadata": {
    "pycharm": {
     "name": "#%%\n"
    }
   },
   "outputs": [],
   "source": [
    "df_out = pd.DataFrame(columns=['uid', 'pp'])\n",
    "for uid, row in df.iterrows():\n",
    "    bucket_order = sorted(row.unique(), reverse=True)\n",
    "    bucket_to_new_name = {b: f'B{i}' for i, b in enumerate(bucket_order)}\n",
    "    bucket_order_new = [bucket_to_new_name[b] for b in bucket_order]\n",
    "\n",
    "    item_to_bucket = {item: bucket_to_new_name[bucket_old] for item, bucket_old in row.items()}\n",
    "\n",
    "    pp = PartitionedPreferences(bucket_order=bucket_order_new, item_to_bucket=item_to_bucket)\n",
    "\n",
    "    df_out.loc[df_out.shape[0]] = [uid, pp]"
   ]
  },
  {
   "cell_type": "code",
   "execution_count": null,
   "metadata": {
    "pycharm": {
     "name": "#%%\n"
    }
   },
   "outputs": [],
   "source": [
    "df_out.to_csv('travel_input.tsv', index=False, sep='\\t')"
   ]
  },
  {
   "cell_type": "code",
   "execution_count": null,
   "metadata": {
    "pycharm": {
     "name": "#%%\n"
    }
   },
   "outputs": [],
   "source": []
  }
 ],
 "metadata": {
  "kernelspec": {
   "display_name": "Python 3 (ipykernel)",
   "language": "python",
   "name": "python3"
  },
  "language_info": {
   "codemirror_mode": {
    "name": "ipython",
    "version": 3
   },
   "file_extension": ".py",
   "mimetype": "text/x-python",
   "name": "python",
   "nbconvert_exporter": "python",
   "pygments_lexer": "ipython3",
   "version": "3.10.2"
  }
 },
 "nbformat": 4,
 "nbformat_minor": 1
}