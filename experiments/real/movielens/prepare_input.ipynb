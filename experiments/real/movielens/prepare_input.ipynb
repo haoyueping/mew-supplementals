{
 "cells": [
  {
   "cell_type": "code",
   "execution_count": null,
   "metadata": {},
   "outputs": [],
   "source": [
    "from random import random\n",
    "\n",
    "import pandas as pd\n",
    "\n",
    "from ppref.preferences.special import PartitionedWithMissing"
   ]
  },
  {
   "cell_type": "code",
   "execution_count": null,
   "metadata": {
    "pycharm": {
     "name": "#%%\n"
    }
   },
   "outputs": [],
   "source": [
    "df = pd.read_csv('ratings_top_200.csv')\n",
    "df.sample(n=5)"
   ]
  },
  {
   "cell_type": "code",
   "execution_count": null,
   "metadata": {
    "pycharm": {
     "name": "#%%\n"
    }
   },
   "outputs": [],
   "source": [
    "movies = set(df['itemid'])\n",
    "\n",
    "df_out = pd.DataFrame(columns=['uid', 'ppwm'])\n",
    "\n",
    "for uid in df.uid.unique():\n",
    "    if random() < 0.01:\n",
    "        print(uid)\n",
    "    \n",
    "    df_u = df.query(f'uid == {uid}')\n",
    "    \n",
    "    ratings = sorted(df_u['rating'].unique(), reverse=True)\n",
    "\n",
    "    \n",
    "    if len(ratings) >= 2:\n",
    "        item2bucket = {}\n",
    "        for idx, row in df_u.iterrows():\n",
    "            item2bucket[row['itemid']] = row['rating']\n",
    "        \n",
    "        ppwm = PartitionedWithMissing(bucket_order=ratings, item_to_bucket=item2bucket, item_set=movies)\n",
    "    \n",
    "    df_out.loc[df_out.shape[0]] = [uid, repr(ppwm)]"
   ]
  },
  {
   "cell_type": "code",
   "execution_count": null,
   "metadata": {},
   "outputs": [],
   "source": [
    "df_out.head()"
   ]
  },
  {
   "cell_type": "code",
   "execution_count": null,
   "metadata": {},
   "outputs": [],
   "source": [
    "df_out.to_csv('movielens_input.tsv', index=False, sep='\\t')"
   ]
  },
  {
   "cell_type": "code",
   "execution_count": null,
   "metadata": {},
   "outputs": [],
   "source": []
  }
 ],
 "metadata": {
  "kernelspec": {
   "display_name": "Python 3 (ipykernel)",
   "language": "python",
   "name": "python3"
  },
  "language_info": {
   "codemirror_mode": {
    "name": "ipython",
    "version": 3
   },
   "file_extension": ".py",
   "mimetype": "text/x-python",
   "name": "python",
   "nbconvert_exporter": "python",
   "pygments_lexer": "ipython3",
   "version": "3.10.2"
  }
 },
 "nbformat": 4,
 "nbformat_minor": 1
}