{
 "cells": [
  {
   "cell_type": "code",
   "execution_count": null,
   "id": "e76d34be-3215-4b60-8da1-b57ee4c0a8fd",
   "metadata": {},
   "outputs": [],
   "source": [
    "import pandas as pd\n",
    "\n",
    "import matplotlib.pyplot as plt\n",
    "import seaborn as sns"
   ]
  },
  {
   "cell_type": "code",
   "execution_count": null,
   "id": "eba37536-9509-4078-867e-e9c0a6336c2a",
   "metadata": {},
   "outputs": [],
   "source": [
    "df = pd.read_csv('crowdrank_output.tsv', sep='\\t')\n",
    "df.replace('Plurality', 'plurality', inplace=True)\n",
    "df['time(ms)'] = (df['t_sec'] * 1000)\n",
    "df.sample(n=5)"
   ]
  },
  {
   "cell_type": "code",
   "execution_count": null,
   "id": "7df50c10-9724-4e13-9235-952fadf7636c",
   "metadata": {},
   "outputs": [],
   "source": [
    "import matplotlib as mpl\n",
    "mpl.rcParams['mathtext.fontset'] = 'cm'\n",
    "mpl.rcParams['pdf.fonttype'] = 42\n",
    "mpl.rc('font', **{'size': 18})"
   ]
  },
  {
   "cell_type": "code",
   "execution_count": null,
   "id": "124ca4cc-3a6e-47a4-93bd-268704196908",
   "metadata": {},
   "outputs": [],
   "source": [
    "plt.figure(dpi=120)\n",
    "sns.boxplot(y='time(ms)', x='rule', data=df, linewidth=0.7, fliersize=1, width=0.5, color='C0')\n",
    "plt.xlabel('')\n",
    "# plt.ylabel('#HITs')\n",
    "plt.ylim(4, 13)\n",
    "plt.yticks(list(range(4, 14, 2)))\n",
    "plt.tight_layout(pad=0)\n",
    "# plt.savefig('real_crowdrank__time_vs_rule.pdf')"
   ]
  },
  {
   "cell_type": "code",
   "execution_count": null,
   "id": "05245777-38a7-4675-8c10-d2b0d863b6f3",
   "metadata": {},
   "outputs": [],
   "source": []
  }
 ],
 "metadata": {
  "kernelspec": {
   "display_name": "Python 3 (ipykernel)",
   "language": "python",
   "name": "python3"
  },
  "language_info": {
   "codemirror_mode": {
    "name": "ipython",
    "version": 3
   },
   "file_extension": ".py",
   "mimetype": "text/x-python",
   "name": "python",
   "nbconvert_exporter": "python",
   "pygments_lexer": "ipython3",
   "version": "3.10.2"
  }
 },
 "nbformat": 4,
 "nbformat_minor": 5
}
