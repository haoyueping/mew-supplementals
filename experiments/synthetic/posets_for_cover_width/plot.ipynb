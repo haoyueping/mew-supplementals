{
 "cells": [
  {
   "cell_type": "code",
   "execution_count": null,
   "id": "c7d63d97-8d62-4449-baa4-2407bc5ae12c",
   "metadata": {},
   "outputs": [],
   "source": [
    "import pandas as pd\n",
    "\n",
    "import matplotlib.pyplot as plt\n",
    "import seaborn as sns"
   ]
  },
  {
   "cell_type": "code",
   "execution_count": null,
   "id": "88a07c05-86b1-46ee-86a4-fbfce1b43cd7",
   "metadata": {},
   "outputs": [],
   "source": [
    "import matplotlib as mpl\n",
    "mpl.rcParams['mathtext.fontset'] = 'cm'\n",
    "mpl.rcParams['pdf.fonttype'] = 42\n",
    "mpl.rc('font', **{'size': 18})"
   ]
  },
  {
   "cell_type": "code",
   "execution_count": null,
   "id": "6438fa59-71ba-4f4f-bbc3-9501947c79cb",
   "metadata": {},
   "outputs": [],
   "source": [
    "df = pd.read_csv('experiment_output.tsv', sep='\\t')\n",
    "df['time(ms)'] = (df['t_sec'] * 1000)\n",
    "df.sample(n=5)"
   ]
  },
  {
   "cell_type": "code",
   "execution_count": null,
   "id": "e9c0707c-590f-4115-a9f7-af6060b3d044",
   "metadata": {},
   "outputs": [],
   "source": [
    "import matplotlib as mpl\n",
    "mpl.rcParams['mathtext.fontset'] = 'cm'\n",
    "mpl.rcParams['pdf.fonttype'] = 42\n",
    "mpl.rc('font', **{'size': 18})"
   ]
  },
  {
   "cell_type": "code",
   "execution_count": null,
   "id": "a1e6e492-a0f4-4374-8fc5-2ddebb500481",
   "metadata": {},
   "outputs": [],
   "source": [
    "# dfx = df[df['pmax'].isin({0.1, 0.5, 0.9})]\n",
    "dfx = df[df['pmax'].isin({0.1})]\n",
    "\n",
    "plt.figure(dpi=120)\n",
    "sns.boxplot(x='cover_width', y='t_sec', data=dfx, linewidth=0.7, fliersize=1, width=0.3, color='C0')\n",
    "plt.xlabel('cover width')\n",
    "plt.ylabel('time(s)')\n",
    "plt.yscale('log')\n",
    "plt.ylim(0.0004, 0.14)\n",
    "# plt.xticks(list(range(1, 8)))\n",
    "plt.tight_layout(pad=0)\n",
    "# plt.savefig('synthetic_posets_cw__time_vs_cw.pdf')"
   ]
  },
  {
   "cell_type": "code",
   "execution_count": null,
   "id": "3c8cf6b7-c18e-4dba-84c1-c4e9b2200064",
   "metadata": {},
   "outputs": [],
   "source": []
  }
 ],
 "metadata": {
  "kernelspec": {
   "display_name": "Python 3 (ipykernel)",
   "language": "python",
   "name": "python3"
  },
  "language_info": {
   "codemirror_mode": {
    "name": "ipython",
    "version": 3
   },
   "file_extension": ".py",
   "mimetype": "text/x-python",
   "name": "python",
   "nbconvert_exporter": "python",
   "pygments_lexer": "ipython3",
   "version": "3.10.2"
  }
 },
 "nbformat": 4,
 "nbformat_minor": 5
}
