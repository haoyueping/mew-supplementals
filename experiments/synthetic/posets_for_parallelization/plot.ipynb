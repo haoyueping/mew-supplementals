{
 "cells": [
  {
   "cell_type": "code",
   "execution_count": null,
   "id": "d0f5ab35-4ac1-455b-a258-77c6869cc3df",
   "metadata": {},
   "outputs": [],
   "source": [
    "import pandas as pd\n",
    "\n",
    "import matplotlib.pyplot as plt\n",
    "import seaborn as sns"
   ]
  },
  {
   "cell_type": "code",
   "execution_count": null,
   "id": "77d20d24-2a8b-4b55-b45c-7c52c05e92b5",
   "metadata": {},
   "outputs": [],
   "source": [
    "import matplotlib as mpl\n",
    "mpl.rcParams['mathtext.fontset'] = 'cm'\n",
    "mpl.rcParams['pdf.fonttype'] = 42\n",
    "mpl.rc('font', **{'size': 18})"
   ]
  },
  {
   "cell_type": "code",
   "execution_count": null,
   "id": "7182cc2a-939f-43ce-bd3b-a34fe6476d8b",
   "metadata": {},
   "outputs": [],
   "source": [
    "df_cs = pd.read_csv('experiment_output.tsv', sep='\\t').query('threads <= 10')\n",
    "df_cm = pd.read_csv('experiment_cm_output.tsv', sep='\\t')\n",
    "df = pd.concat([df_cs, df_cm])\n",
    "df.sort_values(by=df.columns.tolist(), axis=0, inplace=True)\n",
    "df.replace('Plurality', 'plurality', inplace=True)\n",
    "df.head()"
   ]
  },
  {
   "cell_type": "code",
   "execution_count": null,
   "id": "ccb9aed3-bbeb-4305-95dd-abb0c5162a5c",
   "metadata": {},
   "outputs": [],
   "source": [
    "df_seq = df.query('threads == 1').drop(columns=['threads', 'grouping', 'winners'])\n",
    "df_seq.rename(columns={'t_sec': 't_seq_sec'}, inplace=True)\n",
    "df_seq.head()"
   ]
  },
  {
   "cell_type": "code",
   "execution_count": null,
   "id": "7c79e97c-09a6-450c-8891-e86710f1c340",
   "metadata": {},
   "outputs": [],
   "source": [
    "df_merge = df.merge(df_seq)\n",
    "df_merge['speedup'] = df_merge['t_seq_sec'] / df_merge['t_sec']\n",
    "df_merge.sample(n=5)"
   ]
  },
  {
   "cell_type": "code",
   "execution_count": null,
   "id": "ac7a7b61-4132-4e50-8db5-c5b47b052c6b",
   "metadata": {},
   "outputs": [],
   "source": [
    "savemode = False"
   ]
  },
  {
   "cell_type": "code",
   "execution_count": null,
   "id": "cbd05aa9-980e-486b-b02d-17fb1a960415",
   "metadata": {},
   "outputs": [],
   "source": [
    "plt.figure(dpi=120)\n",
    "sns.pointplot(x='threads', y='t_sec', hue='rule', hue_order=['plurality', '2-approval', 'Borda'], data=df_merge, ci=0, dodge=True)\n",
    "plt.xlabel('#worker processes')\n",
    "plt.ylabel('time(s)')\n",
    "plt.yscale('log')\n",
    "plt.ylim(90, 15000)\n",
    "plt.legend(title='', ncol=3, loc=1, \n",
    "       borderpad=0.2, labelspacing=0.2, handlelength=1, \n",
    "       handletextpad=0.2, borderaxespad=0.2, columnspacing=0.5);\n",
    "plt.tight_layout(pad=0)\n",
    "if savemode:\n",
    "    plt.savefig(f'synthetic_posets_10_candidates_1m_voters__parallel_runtime_vs_threads.pdf')"
   ]
  },
  {
   "cell_type": "code",
   "execution_count": null,
   "id": "49a3f069-33bf-4973-b8f7-a5053801723c",
   "metadata": {},
   "outputs": [],
   "source": [
    "plt.figure(dpi=120)\n",
    "sns.pointplot(x='threads', y='speedup', hue='rule', hue_order=['plurality', '2-approval', 'Borda'], data=df_merge, ci=0, dodge=True)\n",
    "plt.xlabel('#worker processes')\n",
    "plt.ylim(0, 43)\n",
    "plt.legend(title='', ncol=3, loc=2, \n",
    "       borderpad=0.2, labelspacing=0.2, handlelength=1, \n",
    "       handletextpad=0.2, borderaxespad=0.2, columnspacing=0.5);\n",
    "plt.tight_layout(pad=0)\n",
    "if savemode:\n",
    "    plt.savefig(f'synthetic_posets_10_candidates_1m_voters__parallel_speedup_vs_threads.pdf')"
   ]
  },
  {
   "cell_type": "code",
   "execution_count": null,
   "id": "de5690a3-c65c-4f94-a639-c577c139620b",
   "metadata": {},
   "outputs": [],
   "source": []
  }
 ],
 "metadata": {
  "kernelspec": {
   "display_name": "Python 3 (ipykernel)",
   "language": "python",
   "name": "python3"
  },
  "language_info": {
   "codemirror_mode": {
    "name": "ipython",
    "version": 3
   },
   "file_extension": ".py",
   "mimetype": "text/x-python",
   "name": "python",
   "nbconvert_exporter": "python",
   "pygments_lexer": "ipython3",
   "version": "3.10.2"
  }
 },
 "nbformat": 4,
 "nbformat_minor": 5
}
