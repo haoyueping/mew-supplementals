{
 "cells": [
  {
   "cell_type": "code",
   "execution_count": null,
   "id": "7a94dd70-b51f-40f9-983d-1b4b292cdfbc",
   "metadata": {
    "tags": []
   },
   "outputs": [],
   "source": [
    "import numpy as np\n",
    "import pandas as pd\n",
    "\n",
    "import matplotlib.pyplot as plt\n",
    "import seaborn as sns"
   ]
  },
  {
   "cell_type": "code",
   "execution_count": null,
   "id": "d269e9b3-1908-46c9-91ab-57d47f134180",
   "metadata": {},
   "outputs": [],
   "source": [
    "df = pd.read_csv('experiment_output.tsv', sep='\\t')\n",
    "df.replace('Plurality', 'plurality', inplace=True)\n",
    "df.sample(n=5)"
   ]
  },
  {
   "cell_type": "code",
   "execution_count": null,
   "id": "b2de0beb-2caa-4b91-b324-475a345038b4",
   "metadata": {},
   "outputs": [],
   "source": [
    "import matplotlib as mpl\n",
    "mpl.rcParams['mathtext.fontset'] = 'cm'\n",
    "mpl.rcParams['pdf.fonttype'] = 42\n",
    "mpl.rc('font', **{'size': 18})"
   ]
  },
  {
   "cell_type": "code",
   "execution_count": null,
   "id": "98c81b1d-5379-4f53-865c-b00007a50531",
   "metadata": {},
   "outputs": [],
   "source": [
    "savemode = False"
   ]
  },
  {
   "cell_type": "code",
   "execution_count": null,
   "id": "67e5e73f-0a7e-404c-aa85-93c46946bea0",
   "metadata": {},
   "outputs": [],
   "source": [
    "dfx = df.query('m == 80 and n == 1000')\n",
    "plt.figure(dpi=120)\n",
    "sns.pointplot(x='chain_size', y='t_total_sec', hue='rule', data=dfx, dodge=True)\n",
    "plt.ylim(0.24, 2.3);\n",
    "plt.yscale('log', base=2)\n",
    "# plt.yticks([2, 4, 6, 8, 10, 12, 14])\n",
    "plt.xlabel('chain size')\n",
    "plt.ylabel('time(s)')\n",
    "plt.legend(title='', ncol=3, loc=2, \n",
    "           borderpad=0.2, labelspacing=0.2, handlelength=1, \n",
    "           handletextpad=0.2, borderaxespad=0.2, columnspacing=0.5);\n",
    "plt.tight_layout(pad=0)\n",
    "if savemode:\n",
    "    plt.savefig('synthetic_pc_80_candidates_1000_voters__time_vs_k.pdf')"
   ]
  },
  {
   "cell_type": "code",
   "execution_count": null,
   "id": "3af9fc1d-3cb4-412d-b3f6-555a7367a976",
   "metadata": {},
   "outputs": [],
   "source": [
    "dfx = df.query('chain_size == 5 and n == 1000')\n",
    "plt.figure(dpi=120)\n",
    "sns.pointplot(x='m', y='t_total_sec', hue='rule', data=dfx, dodge=True)\n",
    "plt.ylim(0.02, 2);\n",
    "plt.yscale('log', base=2)\n",
    "# plt.yticks([2, 4, 6, 8, 10, 12, 14])\n",
    "plt.xlabel('#candidates')\n",
    "plt.ylabel('time(s)')\n",
    "plt.legend(title='', ncol=3, loc=2, \n",
    "           borderpad=0.2, labelspacing=0.2, handlelength=1, \n",
    "           handletextpad=0.2, borderaxespad=0.2, columnspacing=0.5);\n",
    "plt.tight_layout(pad=0)\n",
    "if savemode:\n",
    "    plt.savefig('synthetic_pc_1000_voters_5_partitions__time_vs_candidates.pdf')"
   ]
  },
  {
   "cell_type": "code",
   "execution_count": null,
   "id": "b4b42c6b-43d4-4a1c-ac6f-a80ce345a022",
   "metadata": {},
   "outputs": [],
   "source": [
    "m = 80\n",
    "dfx = df.query(f'chain_size == 5 and m == {m}').groupby(['n', 'rule'], as_index=False).mean()\n",
    "dfx['n'] += dfx['n'] * (np.random.random(dfx.shape[0]) - 0.5) * 0.1\n",
    "dfx['t_total_sec'] += dfx['t_total_sec'] * (np.random.random(dfx.shape[0]) - 0.5) * 0.1\n",
    "\n",
    "fig = plt.figure(dpi=120)\n",
    "ax = fig.add_subplot(111)\n",
    "\n",
    "for rule in ['plurality', '2-approval', 'Borda']:\n",
    "    dfy = dfx.query(f'rule == \"{rule}\"')\n",
    "    ax.scatter(dfy['n'], dfy['t_total_sec'], label=rule, s=60)\n",
    "    ax.plot(dfy['n'], dfy['t_total_sec'], linewidth=2.8)\n",
    "\n",
    "plt.ylim(0.03, 155)\n",
    "plt.xscale('log')\n",
    "plt.yscale('log')\n",
    "plt.xlabel('#voters')\n",
    "plt.ylabel('time(s)')\n",
    "plt.legend(title='', ncol=3, loc=2, \n",
    "       borderpad=0.2, labelspacing=0.2, handlelength=1, \n",
    "       handletextpad=0.2, borderaxespad=0.2, columnspacing=0.5);\n",
    "plt.tight_layout(pad=0)\n",
    "if savemode:\n",
    "    plt.savefig(f'synthetic_pc_{m}_candidates_5_partitions__time_vs_voters.pdf')"
   ]
  },
  {
   "cell_type": "code",
   "execution_count": null,
   "id": "5e1a6f12-0d3e-4484-935c-b024f399d3c6",
   "metadata": {},
   "outputs": [],
   "source": []
  }
 ],
 "metadata": {
  "kernelspec": {
   "display_name": "Python 3 (ipykernel)",
   "language": "python",
   "name": "python3"
  },
  "language_info": {
   "codemirror_mode": {
    "name": "ipython",
    "version": 3
   },
   "file_extension": ".py",
   "mimetype": "text/x-python",
   "name": "python",
   "nbconvert_exporter": "python",
   "pygments_lexer": "ipython3",
   "version": "3.10.2"
  }
 },
 "nbformat": 4,
 "nbformat_minor": 5
}
