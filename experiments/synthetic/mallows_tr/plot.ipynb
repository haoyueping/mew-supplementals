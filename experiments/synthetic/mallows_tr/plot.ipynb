{
 "cells": [
  {
   "cell_type": "code",
   "execution_count": null,
   "id": "95766f6b-bbcf-4f92-942e-545ad8942e08",
   "metadata": {
    "tags": []
   },
   "outputs": [],
   "source": [
    "import pandas as pd\n",
    "\n",
    "import matplotlib.pyplot as plt\n",
    "import seaborn as sns"
   ]
  },
  {
   "cell_type": "code",
   "execution_count": null,
   "id": "265e22bc-b42a-4601-854f-5da290ab87cc",
   "metadata": {},
   "outputs": [],
   "source": [
    "df = pd.read_csv('experiment_output.tsv', sep='\\t')\n",
    "df.replace('Plurality', 'plurality', inplace=True)\n",
    "df.sample(n=5)"
   ]
  },
  {
   "cell_type": "code",
   "execution_count": null,
   "id": "71f259cb-d351-46d7-9c3a-89a941708ade",
   "metadata": {},
   "outputs": [],
   "source": [
    "import matplotlib as mpl\n",
    "mpl.rcParams['mathtext.fontset'] = 'cm'\n",
    "mpl.rcParams['pdf.fonttype'] = 42\n",
    "mpl.rc('font', **{'size': 18})"
   ]
  },
  {
   "cell_type": "code",
   "execution_count": null,
   "id": "efd4118c-a83f-4143-aa9d-25e37e7e90f2",
   "metadata": {},
   "outputs": [],
   "source": [
    "dfx = df.query('n == 1000')\n",
    "plt.figure(dpi=120)\n",
    "sns.pointplot(x='phi', y='t_total_sec', hue='rule', data=dfx, dodge=True, ci=0)\n",
    "plt.ylim(-0.05, 0.7)\n",
    "# plt.yscale('log', base=2)\n",
    "# plt.yticks([2, 4, 6, 8, 10, 12, 14])\n",
    "plt.xlabel('$\\phi$')\n",
    "plt.ylabel('time(s)')\n",
    "plt.legend(title='', ncol=3, loc=2, \n",
    "           borderpad=0.2, labelspacing=0.2, handlelength=1, \n",
    "           handletextpad=0.2, borderaxespad=0.2, columnspacing=0.5);\n",
    "plt.tight_layout(pad=0)\n",
    "# plt.savefig('synthetic_mallowsWtr_10_candidates_1000_voters__time_vs_phi.pdf')"
   ]
  },
  {
   "cell_type": "code",
   "execution_count": null,
   "id": "f28e203a-20e9-4e16-95ca-3c5099f27be6",
   "metadata": {},
   "outputs": [],
   "source": []
  }
 ],
 "metadata": {
  "kernelspec": {
   "display_name": "Python 3 (ipykernel)",
   "language": "python",
   "name": "python3"
  },
  "language_info": {
   "codemirror_mode": {
    "name": "ipython",
    "version": 3
   },
   "file_extension": ".py",
   "mimetype": "text/x-python",
   "name": "python",
   "nbconvert_exporter": "python",
   "pygments_lexer": "ipython3",
   "version": "3.10.2"
  }
 },
 "nbformat": 4,
 "nbformat_minor": 5
}
