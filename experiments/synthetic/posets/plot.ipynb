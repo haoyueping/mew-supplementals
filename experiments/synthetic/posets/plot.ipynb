{
 "cells": [
  {
   "cell_type": "code",
   "execution_count": null,
   "id": "5474383a-17d6-4373-a3dd-88111d1e9208",
   "metadata": {},
   "outputs": [],
   "source": [
    "import pandas as pd\n",
    "\n",
    "import matplotlib.pyplot as plt\n",
    "import seaborn as sns"
   ]
  },
  {
   "cell_type": "code",
   "execution_count": null,
   "id": "bfdca936-f597-4783-a5fd-8c6fa3341ecb",
   "metadata": {},
   "outputs": [],
   "source": [
    "df = pd.read_csv('experiment_output.tsv', sep='\\t')\n",
    "df.replace('Plurality', 'plurality', inplace=True)\n",
    "df.sample(n=5)"
   ]
  },
  {
   "cell_type": "code",
   "execution_count": null,
   "id": "3d307571-3ff0-4dc0-8e32-2fde9d9076ea",
   "metadata": {},
   "outputs": [],
   "source": [
    "import matplotlib as mpl\n",
    "mpl.rcParams['mathtext.fontset'] = 'cm'\n",
    "mpl.rcParams['pdf.fonttype'] = 42\n",
    "mpl.rc('font', **{'size': 18})"
   ]
  },
  {
   "cell_type": "code",
   "execution_count": null,
   "id": "193023bc-bc3c-4aaa-b5f1-128054a4243a",
   "metadata": {},
   "outputs": [],
   "source": [
    "dfx = df.query('n == 1000 and pmax == 0.1')\n",
    "\n",
    "plt.figure(dpi=120)\n",
    "sns.boxplot(x='phi', y='t_total_sec', hue='rule', data=dfx, linewidth=0.7, fliersize=1, width=0.3)\n",
    "plt.ylim(1, 15.5);\n",
    "plt.yticks([2, 4, 6, 8, 10, 12, 14])\n",
    "plt.xlabel('$\\phi$')\n",
    "plt.ylabel('time(s)')\n",
    "plt.legend(title='', ncol=3, loc=2, \n",
    "           borderpad=0.2, labelspacing=0.2, handlelength=1, \n",
    "           handletextpad=0.2, borderaxespad=0.2, columnspacing=0.5);\n",
    "plt.tight_layout(pad=0)\n",
    "# plt.savefig('synthetic_posets_10_candidates_1000_voters__time_vs_phi.pdf')"
   ]
  },
  {
   "cell_type": "code",
   "execution_count": null,
   "id": "54409b68-db07-4a92-9d71-70745322232c",
   "metadata": {},
   "outputs": [],
   "source": [
    "dfx = df.query('phi == 0.5 and pmax == 0.1')\n",
    "\n",
    "plt.figure(dpi=120)\n",
    "sns.boxplot(x='n', y='t_total_sec', hue='rule', data=dfx, linewidth=0.7, fliersize=1, width=0.3)\n",
    "plt.ylim(0.1, 500);\n",
    "plt.yscale('log')\n",
    "plt.xlabel('#voters')\n",
    "plt.ylabel('time(s)')\n",
    "plt.legend(title='', ncol=3, loc=2, \n",
    "           borderpad=0.2, labelspacing=0.2, handlelength=1, \n",
    "           handletextpad=0.2, borderaxespad=0.2, columnspacing=0.5);\n",
    "plt.tight_layout(pad=0)\n",
    "# plt.savefig('synthetic_posets_10_candidates_1000_voters__time_vs_voters.pdf')"
   ]
  },
  {
   "cell_type": "markdown",
   "id": "0e028422-07f1-4e34-bdd1-ea378d1dd1c4",
   "metadata": {},
   "source": [
    "## Baseline\n",
    "\n",
    "No pruning"
   ]
  },
  {
   "cell_type": "code",
   "execution_count": null,
   "id": "2f86dd5c-8fef-4acd-a71e-a860993f0896",
   "metadata": {},
   "outputs": [],
   "source": [
    "df_base = pd.read_csv('experiment_output_of_baseline.tsv', sep='\\t').drop(columns=['winners', 'winner_score'])\n",
    "df_base.replace('Plurality', 'plurality', inplace=True)\n",
    "df_base.sample(n=5)"
   ]
  },
  {
   "cell_type": "code",
   "execution_count": null,
   "id": "85defb12-e6a4-47da-abdb-bf1016205557",
   "metadata": {},
   "outputs": [],
   "source": [
    "df_merge = pd.merge(df, df_base)\n",
    "df_merge['speedup'] = df_merge['t_baseline_sec'] / df_merge['t_total_sec']\n",
    "df_merge.sample(n=5)"
   ]
  },
  {
   "cell_type": "code",
   "execution_count": null,
   "id": "1c48e60e-1438-4d26-9423-a48e242b0d24",
   "metadata": {},
   "outputs": [],
   "source": [
    "dfx = df_merge.query('phi == 0.5')\n",
    "for n in dfx['n'].unique():\n",
    "    dfy = dfx.query(f'n == {n}')\n",
    "    plt.figure(dpi=120)\n",
    "    sns.pointplot(x='pmax', y='speedup', hue='rule', data=dfy, ci=0);\n",
    "    plt.ylim(0, 11)\n",
    "    plt.xlabel('$p_{max}$')\n",
    "    plt.legend(title='', ncol=3, loc=2, \n",
    "           borderpad=0.2, labelspacing=0.2, handlelength=1, \n",
    "           handletextpad=0.2, borderaxespad=0.2, columnspacing=0.5);\n",
    "    plt.tight_layout(pad=0)\n",
    "    # plt.savefig(f'synthetic_posets_10_candidates_{n}_voters__speedup_vs_pmax.pdf')"
   ]
  },
  {
   "cell_type": "code",
   "execution_count": null,
   "id": "c9e2d70a-cecc-4406-ab7f-44837d0ef12c",
   "metadata": {},
   "outputs": [],
   "source": []
  }
 ],
 "metadata": {
  "kernelspec": {
   "display_name": "Python 3 (ipykernel)",
   "language": "python",
   "name": "python3"
  },
  "language_info": {
   "codemirror_mode": {
    "name": "ipython",
    "version": 3
   },
   "file_extension": ".py",
   "mimetype": "text/x-python",
   "name": "python",
   "nbconvert_exporter": "python",
   "pygments_lexer": "ipython3",
   "version": "3.10.2"
  }
 },
 "nbformat": 4,
 "nbformat_minor": 5
}
