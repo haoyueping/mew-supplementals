{
 "cells": [
  {
   "cell_type": "code",
   "execution_count": null,
   "id": "a572c986-dc80-4e79-bfe0-8f98a3934980",
   "metadata": {
    "tags": []
   },
   "outputs": [],
   "source": [
    "import numpy as np\n",
    "import pandas as pd\n",
    "\n",
    "import matplotlib.pyplot as plt\n",
    "import seaborn as sns"
   ]
  },
  {
   "cell_type": "code",
   "execution_count": null,
   "id": "b0a7e2e6-2867-4eba-9de1-04a39b4772d1",
   "metadata": {},
   "outputs": [],
   "source": [
    "df = pd.read_csv('experiment_output.tsv', sep='\\t')\n",
    "df.replace('Plurality', 'plurality', inplace=True)\n",
    "df.sample(n=5)"
   ]
  },
  {
   "cell_type": "code",
   "execution_count": null,
   "id": "22d3dcfa-6820-4a6e-bef9-0b5abca5b2be",
   "metadata": {},
   "outputs": [],
   "source": [
    "import matplotlib as mpl\n",
    "mpl.rcParams['mathtext.fontset'] = 'cm'\n",
    "mpl.rcParams['pdf.fonttype'] = 42\n",
    "mpl.rc('font', **{'size': 18})"
   ]
  },
  {
   "cell_type": "code",
   "execution_count": null,
   "id": "c4624828-3663-4e52-94e7-278e01d97322",
   "metadata": {},
   "outputs": [],
   "source": [
    "savemode = False"
   ]
  },
  {
   "cell_type": "code",
   "execution_count": null,
   "id": "acd76734-dc9c-4f66-ac76-7cb780bdc07a",
   "metadata": {},
   "outputs": [],
   "source": [
    "dfx = df.query('m == 80 and n == 1000')\n",
    "plt.figure(dpi=120)\n",
    "sns.pointplot(x='tb_size', y='t_total_sec', hue='rule', data=dfx, dodge=True)\n",
    "plt.ylim(2**(-6), 2);\n",
    "plt.yscale('log', base=2)\n",
    "# plt.yticks([2, 4, 6, 8, 10, 12, 14])\n",
    "plt.xlabel('top / bottom size')\n",
    "plt.ylabel('time(s)')\n",
    "plt.legend(title='', ncol=3, loc=2, \n",
    "           borderpad=0.2, labelspacing=0.2, handlelength=1, \n",
    "           handletextpad=0.2, borderaxespad=0.2, columnspacing=0.5);\n",
    "plt.tight_layout(pad=0)\n",
    "if savemode:\n",
    "    plt.savefig('synthetic_tr_80_candidates_1000_voters__time_vs_k.pdf')"
   ]
  },
  {
   "cell_type": "code",
   "execution_count": null,
   "id": "c48d9ec7-0bcd-4c1e-adca-2e3a5eb10f53",
   "metadata": {},
   "outputs": [],
   "source": [
    "m = 80\n",
    "dfx = df.query(f'tb_size == 5 and m == {m}').groupby(['n', 'rule'], as_index=False).mean()\n",
    "dfx['n'] += dfx['n'] * (np.random.random(dfx.shape[0]) - 0.5) * 0.1\n",
    "dfx['t_total_sec'] += dfx['t_total_sec'] * (np.random.random(dfx.shape[0]) - 0.5) * 0.1\n",
    "\n",
    "fig = plt.figure(dpi=120)\n",
    "ax = fig.add_subplot(111)\n",
    "\n",
    "for rule in ['plurality', '2-approval', 'Borda']:\n",
    "    dfy = dfx.query(f'rule == \"{rule}\"')\n",
    "    ax.scatter(dfy['n'], dfy['t_total_sec'], label=rule, s=60)\n",
    "    ax.plot(dfy['n'], dfy['t_total_sec'], linewidth=2.8)\n",
    "\n",
    "plt.ylim(0.002, 2000)\n",
    "plt.xscale('log')\n",
    "plt.yscale('log')\n",
    "plt.xlabel('#voters')\n",
    "plt.ylabel('time(s)')\n",
    "plt.legend(title='', ncol=3, loc=2, \n",
    "       borderpad=0.2, labelspacing=0.2, handlelength=1, \n",
    "       handletextpad=0.2, borderaxespad=0.2, columnspacing=0.5);\n",
    "plt.tight_layout(pad=0)\n",
    "if savemode:\n",
    "    plt.savefig(f'synthetic_tr_{m}_candidates_5_k__time_vs_voters.pdf')"
   ]
  },
  {
   "cell_type": "code",
   "execution_count": null,
   "id": "ff1b916a-9b9a-4c86-964b-43eb034efe3f",
   "metadata": {},
   "outputs": [],
   "source": []
  },
  {
   "cell_type": "code",
   "execution_count": null,
   "id": "844d649a-06e8-43dd-99e1-f66923d586fd",
   "metadata": {},
   "outputs": [],
   "source": []
  },
  {
   "cell_type": "code",
   "execution_count": null,
   "id": "e0645372-8287-45ab-ad47-ab1070fafd63",
   "metadata": {},
   "outputs": [],
   "source": []
  }
 ],
 "metadata": {
  "kernelspec": {
   "display_name": "Python 3 (ipykernel)",
   "language": "python",
   "name": "python3"
  },
  "language_info": {
   "codemirror_mode": {
    "name": "ipython",
    "version": 3
   },
   "file_extension": ".py",
   "mimetype": "text/x-python",
   "name": "python",
   "nbconvert_exporter": "python",
   "pygments_lexer": "ipython3",
   "version": "3.10.2"
  }
 },
 "nbformat": 4,
 "nbformat_minor": 5
}
