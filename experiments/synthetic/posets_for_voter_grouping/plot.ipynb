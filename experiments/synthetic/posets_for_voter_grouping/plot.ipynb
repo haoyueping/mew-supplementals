{
 "cells": [
  {
   "cell_type": "code",
   "execution_count": null,
   "id": "7ce244ad-a6cd-4538-917b-d55471552bed",
   "metadata": {},
   "outputs": [],
   "source": [
    "import pandas as pd\n",
    "\n",
    "import matplotlib.pyplot as plt\n",
    "import seaborn as sns"
   ]
  },
  {
   "cell_type": "code",
   "execution_count": null,
   "id": "2e8fdc7e-fbbf-4947-b952-bba2a8ae2b98",
   "metadata": {},
   "outputs": [],
   "source": [
    "import matplotlib as mpl\n",
    "mpl.rcParams['mathtext.fontset'] = 'cm'\n",
    "mpl.rcParams['pdf.fonttype'] = 42\n",
    "mpl.rc('font', **{'size': 18})"
   ]
  },
  {
   "cell_type": "code",
   "execution_count": null,
   "id": "64d5d6c5-ced0-4b76-81ea-376ae8da6b3d",
   "metadata": {},
   "outputs": [],
   "source": [
    "df_off = pd.read_csv('experiment_output_of_no_pruning_and_no_grouping_sequential_baseline.tsv', sep='\\t').drop(columns=['pruning', 'grouping', 'winners', 'winner_score'])\n",
    "df_off.rename(columns={'t_baseline_sec': 't_grouping_off_sec'}, inplace=True)\n",
    "df_off.replace('Plurality', 'plurality', inplace=True)\n",
    "df_off.sample(n=5)"
   ]
  },
  {
   "cell_type": "code",
   "execution_count": null,
   "id": "a7d2911a-42a0-4de3-86d9-b4cfcc461ea6",
   "metadata": {},
   "outputs": [],
   "source": [
    "df_on = pd.read_csv('experiment_output_of_no_pruning_but_with_grouping.tsv', sep='\\t').drop(columns=['pruning', 'grouping', 'winners', 'winner_score'])\n",
    "df_on.rename(columns={'t_baseline_sec': 't_grouping_on_sec'}, inplace=True)\n",
    "df_on.replace('Plurality', 'plurality', inplace=True)\n",
    "df_on.sample(n=5)"
   ]
  },
  {
   "cell_type": "code",
   "execution_count": null,
   "id": "8098b1d7-9f52-4d56-97f9-c060c3f4f609",
   "metadata": {},
   "outputs": [],
   "source": [
    "df_merge = pd.merge(df_off, df_on)\n",
    "df_merge['speedup'] = df_merge['t_grouping_off_sec'] / df_merge['t_grouping_on_sec']\n",
    "df_merge.sample(n=5)"
   ]
  },
  {
   "cell_type": "code",
   "execution_count": null,
   "id": "b2c373a1-bd17-4601-aff0-b8aa48350002",
   "metadata": {},
   "outputs": [],
   "source": [
    "df_merge.groupby(['n', 'rule']).count()"
   ]
  },
  {
   "cell_type": "code",
   "execution_count": null,
   "id": "7d139d9c-f31e-4887-9972-30687e1b0b48",
   "metadata": {},
   "outputs": [],
   "source": [
    "dfx = df_merge.groupby(['n', 'rule'], as_index=False).mean()\n",
    "\n",
    "fig = plt.figure(dpi=120)\n",
    "ax = fig.add_subplot(111)\n",
    "\n",
    "for rule in ['plurality', '2-approval', 'Borda']:\n",
    "    dfy = dfx.query(f'rule == \"{rule}\"')\n",
    "    ax.scatter(dfy['n'], dfy['speedup'], label=rule, s=60)\n",
    "    ax.plot(dfy['n'], dfy['speedup'], linewidth=2.8)\n",
    "\n",
    "plt.xscale('log')\n",
    "plt.xlabel('#voters')\n",
    "plt.ylabel('speedup')\n",
    "plt.legend(title='', ncol=3, loc=2, \n",
    "       borderpad=0.2, labelspacing=0.2, handlelength=1, \n",
    "       handletextpad=0.2, borderaxespad=0.2, columnspacing=0.5);\n",
    "plt.tight_layout(pad=0)\n",
    "# plt.savefig(f'synthetic_posets_10_candidates__grouping_speedup_vs_voters.pdf')"
   ]
  },
  {
   "cell_type": "code",
   "execution_count": null,
   "id": "f8c2fb2b-0d62-425b-9b34-9c35a83a0f1a",
   "metadata": {},
   "outputs": [],
   "source": []
  }
 ],
 "metadata": {
  "kernelspec": {
   "display_name": "Python 3 (ipykernel)",
   "language": "python",
   "name": "python3"
  },
  "language_info": {
   "codemirror_mode": {
    "name": "ipython",
    "version": 3
   },
   "file_extension": ".py",
   "mimetype": "text/x-python",
   "name": "python",
   "nbconvert_exporter": "python",
   "pygments_lexer": "ipython3",
   "version": "3.10.2"
  }
 },
 "nbformat": 4,
 "nbformat_minor": 5
}
