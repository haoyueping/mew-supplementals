{
 "cells": [
  {
   "cell_type": "code",
   "execution_count": null,
   "id": "6746131d-77a5-43dd-a224-1e6021aa9aad",
   "metadata": {},
   "outputs": [],
   "source": [
    "import pandas as pd\n",
    "\n",
    "import matplotlib.pyplot as plt\n",
    "import seaborn as sns"
   ]
  },
  {
   "cell_type": "code",
   "execution_count": null,
   "id": "60ee93d6-a35c-47b7-a876-d41c2c455b44",
   "metadata": {},
   "outputs": [],
   "source": [
    "df_raw = pd.read_csv('experiment_output.tsv', sep='\\t').query('m <=6 and n <= 6')\n",
    "df_raw.replace('Plurality', 'plurality', inplace=True)\n",
    "df_raw.sample(n=5)"
   ]
  },
  {
   "cell_type": "code",
   "execution_count": null,
   "id": "35877b9f-81cd-4eba-8d71-0d57c410ef52",
   "metadata": {},
   "outputs": [],
   "source": [
    "df_keys = df_raw[['m', 'n', 'phi', 'pmax', 'batch', 'rule']].copy()\n",
    "df_mpw = df_keys.copy()\n",
    "df_mew = df_keys.copy()\n",
    "df_mpw['definition'] = 'MPW'\n",
    "df_mew['definition'] = 'MEW'\n",
    "df_mpw['winners'] = df_raw['mpw'].copy()\n",
    "df_mew['winners'] = df_raw['mew'].copy()\n",
    "df_mpw['time(s)'] = df_raw['t_mpw_s'].copy()\n",
    "df_mew['time(s)'] = df_raw['t_mew_s'].copy()\n",
    "\n",
    "df = pd.concat([df_mpw, df_mew])\n",
    "df.sample(n=5)"
   ]
  },
  {
   "cell_type": "code",
   "execution_count": null,
   "id": "6bd32884-94dc-42fc-9e45-2dd096086bcf",
   "metadata": {},
   "outputs": [],
   "source": [
    "import matplotlib as mpl\n",
    "mpl.rcParams['mathtext.fontset'] = 'cm'\n",
    "mpl.rcParams['pdf.fonttype'] = 42\n",
    "mpl.rc('font', **{'size': 18})"
   ]
  },
  {
   "cell_type": "code",
   "execution_count": null,
   "id": "90bb2195-ae4f-4b24-81eb-ee642dde1201",
   "metadata": {},
   "outputs": [],
   "source": [
    "savemode = False"
   ]
  },
  {
   "cell_type": "code",
   "execution_count": null,
   "id": "f9239365-3338-4345-8a9a-76e8a664b6cf",
   "metadata": {},
   "outputs": [],
   "source": [
    "dfx = df.query('n == 5 and rule == \"Borda\"')\n",
    "\n",
    "plt.figure(dpi=120)\n",
    "sns.pointplot(x='m', y='time(s)', hue='definition', data=dfx, ci=0)\n",
    "plt.yscale('log')\n",
    "plt.ylim(0.001, 11000)\n",
    "plt.xlabel('#candidates')\n",
    "plt.legend(title='', ncol=1, loc=2, \n",
    "           borderpad=0.2, labelspacing=0.2, handlelength=1, \n",
    "           handletextpad=0.2, borderaxespad=0.2, columnspacing=0.5);\n",
    "plt.tight_layout(pad=0)\n",
    "if savemode:\n",
    "    plt.savefig('synthetic_mpw_5_voters__time_vs_m.pdf')"
   ]
  },
  {
   "cell_type": "code",
   "execution_count": null,
   "id": "15836003-0203-4b2d-af54-9a750acfc23b",
   "metadata": {},
   "outputs": [],
   "source": [
    "dfx = df.query('m == 5 and rule == \"Borda\"')\n",
    "\n",
    "plt.figure(dpi=120)\n",
    "sns.pointplot(x='n', y='time(s)', hue='definition', data=dfx, ci=0)\n",
    "# plt.yscale('log')\n",
    "# plt.ylim(0.0005, 100)\n",
    "plt.xlabel('#voters')\n",
    "plt.legend(title='', ncol=1, loc=2, \n",
    "           borderpad=0.2, labelspacing=0.2, handlelength=1, \n",
    "           handletextpad=0.2, borderaxespad=0.2, columnspacing=0.5);\n",
    "plt.tight_layout(pad=0)\n",
    "if savemode:\n",
    "    plt.savefig('synthetic_mpw_5_candidates__time_vs_n.pdf')"
   ]
  },
  {
   "cell_type": "code",
   "execution_count": null,
   "id": "7aec6b54-a130-48ed-a8c7-d4e907f6ed27",
   "metadata": {},
   "outputs": [],
   "source": []
  }
 ],
 "metadata": {
  "kernelspec": {
   "display_name": "Python 3 (ipykernel)",
   "language": "python",
   "name": "python3"
  },
  "language_info": {
   "codemirror_mode": {
    "name": "ipython",
    "version": 3
   },
   "file_extension": ".py",
   "mimetype": "text/x-python",
   "name": "python",
   "nbconvert_exporter": "python",
   "pygments_lexer": "ipython3",
   "version": "3.10.2"
  }
 },
 "nbformat": 4,
 "nbformat_minor": 5
}
