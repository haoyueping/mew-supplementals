{
 "cells": [
  {
   "cell_type": "code",
   "execution_count": null,
   "id": "1a1d0664-cc27-4cde-8aa8-6f3c02cb9482",
   "metadata": {
    "tags": []
   },
   "outputs": [],
   "source": [
    "import pandas as pd\n",
    "\n",
    "import matplotlib.pyplot as plt\n",
    "import seaborn as sns"
   ]
  },
  {
   "cell_type": "code",
   "execution_count": null,
   "id": "f1b22aa5-0927-423d-9da2-25495191d56f",
   "metadata": {},
   "outputs": [],
   "source": [
    "df = pd.read_csv('experiment_output.tsv', sep='\\t')\n",
    "df.replace('Plurality', 'plurality', inplace=True)\n",
    "df.sample(n=5)"
   ]
  },
  {
   "cell_type": "code",
   "execution_count": null,
   "id": "28557806-71d9-40ab-9b19-c6484b15780b",
   "metadata": {},
   "outputs": [],
   "source": [
    "import matplotlib as mpl\n",
    "mpl.rcParams['mathtext.fontset'] = 'cm'\n",
    "mpl.rcParams['pdf.fonttype'] = 42\n",
    "mpl.rc('font', **{'size': 18})"
   ]
  },
  {
   "cell_type": "code",
   "execution_count": null,
   "id": "bcc6e541-a00e-4637-8104-e63ff88acbc3",
   "metadata": {},
   "outputs": [],
   "source": [
    "savemode = False"
   ]
  },
  {
   "cell_type": "code",
   "execution_count": null,
   "id": "b9d178d0-ca26-4c4d-8268-a0bdc402e8d0",
   "metadata": {},
   "outputs": [],
   "source": [
    "dfx = df.query('phi == 0.5 and n == 1000')\n",
    "plt.figure(dpi=120)\n",
    "sns.pointplot(x='m', y='t_total_sec', hue='rule', data=dfx, dodge=True)\n",
    "plt.ylim(2**(-2), 2**9);\n",
    "plt.yscale('log', base=2)\n",
    "# plt.yticks([2, 4, 6, 8, 10, 12, 14])\n",
    "plt.xlabel('#candidates')\n",
    "plt.ylabel('time(s)')\n",
    "plt.legend(title='', ncol=3, loc=2, \n",
    "           borderpad=0.2, labelspacing=0.2, handlelength=1, \n",
    "           handletextpad=0.2, borderaxespad=0.2, columnspacing=0.5);\n",
    "plt.tight_layout(pad=0)\n",
    "if savemode:\n",
    "    plt.savefig('synthetic_mallows_1000_voters_phi_05__time_vs_m.pdf')"
   ]
  },
  {
   "cell_type": "code",
   "execution_count": null,
   "id": "65590258-29bb-4a38-b598-6a01ed7c1e57",
   "metadata": {},
   "outputs": [],
   "source": [
    "dfx = df.query('m == 10 and n == 1000')\n",
    "plt.figure(dpi=120)\n",
    "sns.pointplot(x='phi', y='t_total_sec', hue='rule', data=dfx, dodge=True)\n",
    "plt.ylim(0.3, 0.65);\n",
    "# plt.yscale('log', base=2)\n",
    "# plt.yticks([2, 4, 6, 8, 10, 12, 14])\n",
    "plt.xlabel('$\\phi$')\n",
    "plt.ylabel('time(s)')\n",
    "plt.legend(title='', ncol=3, loc=2, \n",
    "           borderpad=0.2, labelspacing=0.2, handlelength=1, \n",
    "           handletextpad=0.2, borderaxespad=0.2, columnspacing=0.5);\n",
    "plt.tight_layout(pad=0)\n",
    "if savemode:\n",
    "    plt.savefig('synthetic_mallows_10_candidates_1000_voters__time_vs_phi.pdf')"
   ]
  },
  {
   "cell_type": "code",
   "execution_count": null,
   "id": "fcf30870-484b-4805-bdb8-7d8fea1f7a0a",
   "metadata": {},
   "outputs": [],
   "source": [
    "dfx = df.query('m == 10 and phi == 0.5')\n",
    "plt.figure(dpi=120)\n",
    "sns.pointplot(x='n', y='t_total_sec', hue='rule', data=dfx, dodge=True)\n",
    "plt.ylim(0.02, 15);\n",
    "plt.yscale('log', base=10)\n",
    "# plt.yticks([2, 4, 6, 8, 10, 12, 14])\n",
    "# plt.xlabel('$\\phi$')\n",
    "plt.ylabel('time(s)')\n",
    "plt.legend(title='', ncol=3, loc=2, \n",
    "           borderpad=0.2, labelspacing=0.2, handlelength=1, \n",
    "           handletextpad=0.2, borderaxespad=0.2, columnspacing=0.5);\n",
    "plt.tight_layout(pad=0)\n",
    "if savemode:\n",
    "    plt.savefig('synthetic_mallows_10_candidates_1000_voters__time_vs_n.pdf')"
   ]
  },
  {
   "cell_type": "code",
   "execution_count": null,
   "id": "bd93cc82-9c0d-4478-bce8-d5795e233f2d",
   "metadata": {},
   "outputs": [],
   "source": []
  }
 ],
 "metadata": {
  "kernelspec": {
   "display_name": "Python 3 (ipykernel)",
   "language": "python",
   "name": "python3"
  },
  "language_info": {
   "codemirror_mode": {
    "name": "ipython",
    "version": 3
   },
   "file_extension": ".py",
   "mimetype": "text/x-python",
   "name": "python",
   "nbconvert_exporter": "python",
   "pygments_lexer": "ipython3",
   "version": "3.10.2"
  }
 },
 "nbformat": 4,
 "nbformat_minor": 5
}
