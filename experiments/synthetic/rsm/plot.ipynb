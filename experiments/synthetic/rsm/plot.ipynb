{
 "cells": [
  {
   "cell_type": "code",
   "execution_count": null,
   "id": "bc013271-e0be-4f8f-88f4-a79ae24d7fe1",
   "metadata": {
    "tags": []
   },
   "outputs": [],
   "source": [
    "import pandas as pd\n",
    "\n",
    "import matplotlib.pyplot as plt\n",
    "import seaborn as sns"
   ]
  },
  {
   "cell_type": "code",
   "execution_count": null,
   "id": "760d123f-ffd2-4a48-9780-5d66337793c6",
   "metadata": {},
   "outputs": [],
   "source": [
    "df = pd.read_csv('experiment_output.tsv', sep='\\t')\n",
    "df.replace('Plurality', 'plurality', inplace=True)\n",
    "df.sample(n=5)"
   ]
  },
  {
   "cell_type": "code",
   "execution_count": null,
   "id": "13c3161f-e9bf-40da-955a-fa31303103ac",
   "metadata": {},
   "outputs": [],
   "source": [
    "import matplotlib as mpl\n",
    "mpl.rcParams['mathtext.fontset'] = 'cm'\n",
    "mpl.rcParams['pdf.fonttype'] = 42\n",
    "mpl.rc('font', **{'size': 18})"
   ]
  },
  {
   "cell_type": "code",
   "execution_count": null,
   "id": "b4fd7d98-f7ad-4d68-b520-52169c852bc8",
   "metadata": {},
   "outputs": [],
   "source": [
    "dfx = df.query('equiv_phi == 0.5 and n == 1000')\n",
    "plt.figure(dpi=120)\n",
    "sns.pointplot(x='m', y='t_total_sec', hue='rule', data=dfx, dodge=True)\n",
    "plt.ylim(2**(-6), 2**10);\n",
    "plt.yscale('log', base=2)\n",
    "# plt.yticks([2, 4, 6, 8, 10, 12, 14])\n",
    "plt.xlabel('#candidates')\n",
    "plt.ylabel('time(s)')\n",
    "plt.legend(title='', ncol=3, loc=2, \n",
    "           borderpad=0.2, labelspacing=0.2, handlelength=1, \n",
    "           handletextpad=0.2, borderaxespad=0.2, columnspacing=0.5);\n",
    "plt.tight_layout(pad=0)\n",
    "# plt.savefig('synthetic_rsm_1000_voters_phi_05__time_vs_m.pdf')"
   ]
  },
  {
   "cell_type": "code",
   "execution_count": null,
   "id": "41142935-5916-4cff-8e86-528121bd2f7d",
   "metadata": {},
   "outputs": [],
   "source": [
    "dfx = df.query('m == 10 and n == 1000')\n",
    "plt.figure(dpi=120)\n",
    "sns.pointplot(x='equiv_phi', y='t_total_sec', hue='rule', data=dfx, dodge=True)\n",
    "plt.ylim(0, 1);\n",
    "# plt.yscale('log', base=2)\n",
    "# plt.yticks([2, 4, 6, 8, 10, 12, 14])\n",
    "plt.xlabel('equivalent $\\phi$ for the $\\Pi$ of rRSM')\n",
    "plt.ylabel('time(s)')\n",
    "plt.legend(title='', ncol=3, loc=2, \n",
    "           borderpad=0.2, labelspacing=0.2, handlelength=1, \n",
    "           handletextpad=0.2, borderaxespad=0.2, columnspacing=0.5);\n",
    "plt.tight_layout(pad=0)\n",
    "# plt.savefig('synthetic_rsm_10_candidates_1000_voters__time_vs_phi.pdf')"
   ]
  },
  {
   "cell_type": "code",
   "execution_count": null,
   "id": "abcf6249-6580-4114-96f6-4ed5b1c05ddc",
   "metadata": {},
   "outputs": [],
   "source": [
    "dfx = df.query('m == 10 and phi == 0.5')\n",
    "plt.figure(dpi=120)\n",
    "sns.pointplot(x='n', y='t_total_sec', hue='rule', data=dfx, dodge=True)\n",
    "# plt.ylim(0.3, 0.65);\n",
    "plt.yscale('log', base=10)\n",
    "# plt.yticks([2, 4, 6, 8, 10, 12, 14])\n",
    "# plt.xlabel('$\\phi$')\n",
    "plt.ylabel('time(s)')\n",
    "plt.legend(title='', ncol=3, loc=2, \n",
    "           borderpad=0.2, labelspacing=0.2, handlelength=1, \n",
    "           handletextpad=0.2, borderaxespad=0.2, columnspacing=0.5);\n",
    "plt.tight_layout(pad=0)\n",
    "# plt.savefig('synthetic_mallows_10_candidates_1000_voters__time_vs_n.pdf')"
   ]
  },
  {
   "cell_type": "code",
   "execution_count": null,
   "id": "f8a862d4-6608-4c89-a220-c1aed2b71a46",
   "metadata": {},
   "outputs": [],
   "source": []
  }
 ],
 "metadata": {
  "kernelspec": {
   "display_name": "Python 3 (ipykernel)",
   "language": "python",
   "name": "python3"
  },
  "language_info": {
   "codemirror_mode": {
    "name": "ipython",
    "version": 3
   },
   "file_extension": ".py",
   "mimetype": "text/x-python",
   "name": "python",
   "nbconvert_exporter": "python",
   "pygments_lexer": "ipython3",
   "version": "3.10.2"
  }
 },
 "nbformat": 4,
 "nbformat_minor": 5
}
