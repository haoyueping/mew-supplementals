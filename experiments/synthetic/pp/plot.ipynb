{
 "cells": [
  {
   "cell_type": "code",
   "execution_count": null,
   "id": "dbbe8805-d258-45fc-9af1-d623f32aca30",
   "metadata": {},
   "outputs": [],
   "source": [
    "import numpy as np\n",
    "import pandas as pd\n",
    "\n",
    "import matplotlib.pyplot as plt\n",
    "import seaborn as sns"
   ]
  },
  {
   "cell_type": "code",
   "execution_count": null,
   "id": "15372169-0b1f-44ed-acaf-6a616c64f16d",
   "metadata": {},
   "outputs": [],
   "source": [
    "df = pd.read_csv('experiment_output.tsv', sep='\\t')\n",
    "df.replace('Plurality', 'plurality', inplace=True)\n",
    "df.sample(n=5)"
   ]
  },
  {
   "cell_type": "code",
   "execution_count": null,
   "id": "c0a12d33-f72d-43f8-b52e-9a00257ee253",
   "metadata": {},
   "outputs": [],
   "source": [
    "import matplotlib as mpl\n",
    "mpl.rcParams['mathtext.fontset'] = 'cm'\n",
    "mpl.rcParams['pdf.fonttype'] = 42\n",
    "mpl.rc('font', **{'size': 18})"
   ]
  },
  {
   "cell_type": "code",
   "execution_count": null,
   "id": "70b3c106-36f1-44d9-9475-3907c5f9c799",
   "metadata": {},
   "outputs": [],
   "source": [
    "savemode = False"
   ]
  },
  {
   "cell_type": "code",
   "execution_count": null,
   "id": "8c27a294-8618-4507-b810-73d7c9b5e463",
   "metadata": {},
   "outputs": [],
   "source": [
    "dfx = df.query('m == 80 and n == 1000')\n",
    "\n",
    "plt.figure(dpi=120)\n",
    "sns.pointplot(x='num_buckets', y='t_total_sec', hue='rule', data=dfx, dodge=True, ci=0)\n",
    "plt.ylim(0.2, 1.5);\n",
    "plt.yscale('log', base=2)\n",
    "# plt.yticks([2, 4, 6, 8, 10, 12, 14])\n",
    "plt.xlabel('#partitions')\n",
    "plt.ylabel('time(s)')\n",
    "plt.legend(title='', ncol=3, loc=2, \n",
    "           borderpad=0.2, labelspacing=0.2, handlelength=1, \n",
    "           handletextpad=0.2, borderaxespad=0.2, columnspacing=0.5);\n",
    "plt.tight_layout(pad=0)\n",
    "if savemode:\n",
    "    plt.savefig('synthetic_pp_80_candidates_1000_voters__time_vs_k.pdf')"
   ]
  },
  {
   "cell_type": "code",
   "execution_count": null,
   "id": "84c8a6da-457d-4fe9-a0b4-a337781f0ff8",
   "metadata": {},
   "outputs": [],
   "source": [
    "dfx = df.query('num_buckets == 5 and n == 1000')\n",
    "plt.figure(dpi=120)\n",
    "sns.pointplot(x='m', y='t_total_sec', hue='rule', data=dfx, dodge=True, ci=0)\n",
    "plt.ylim(0.025, 1.5);\n",
    "plt.yscale('log', base=2)\n",
    "# plt.yticks([2, 4, 6, 8, 10, 12, 14])\n",
    "plt.xlabel('#candidates')\n",
    "plt.ylabel('time(s)')\n",
    "plt.legend(title='', ncol=3, loc=2, \n",
    "           borderpad=0.2, labelspacing=0.2, handlelength=1, \n",
    "           handletextpad=0.2, borderaxespad=0.2, columnspacing=0.5);\n",
    "plt.tight_layout(pad=0)\n",
    "if savemode:\n",
    "    plt.savefig('synthetic_pp_1000_voters_5_partitions__time_vs_candidates.pdf')"
   ]
  },
  {
   "cell_type": "code",
   "execution_count": null,
   "id": "549b6c9b-db17-41d4-962f-862e9ed6a33c",
   "metadata": {},
   "outputs": [],
   "source": [
    "m = 80\n",
    "dfx = df.query(f'num_buckets == 5 and m == {m}').groupby(['n', 'rule'], as_index=False).mean()\n",
    "dfx['n'] += dfx['n'] * (np.random.random(dfx.shape[0]) - 0.5) * 0.1\n",
    "dfx['t_total_sec'] += dfx['t_total_sec'] * (np.random.random(dfx.shape[0]) - 0.5) * 0.1\n",
    "\n",
    "fig = plt.figure(dpi=120)\n",
    "ax = fig.add_subplot(111)\n",
    "\n",
    "for rule in ['plurality', '2-approval', 'Borda']:\n",
    "    dfy = dfx.query(f'rule == \"{rule}\"')\n",
    "    ax.scatter(dfy['n'], dfy['t_total_sec'], label=rule, s=60)\n",
    "    ax.plot(dfy['n'], dfy['t_total_sec'], linewidth=2.8)\n",
    "\n",
    "plt.xscale('log')\n",
    "plt.yscale('log')\n",
    "plt.xlabel('#voters')\n",
    "plt.ylabel('time(s)')\n",
    "plt.legend(title='', ncol=3, loc=2, \n",
    "       borderpad=0.2, labelspacing=0.2, handlelength=1, \n",
    "       handletextpad=0.2, borderaxespad=0.2, columnspacing=0.5);\n",
    "plt.tight_layout(pad=0)\n",
    "if savemode:\n",
    "    plt.savefig(f'synthetic_pp_{m}_candidates_5_partitions__time_vs_voters.pdf')"
   ]
  },
  {
   "cell_type": "code",
   "execution_count": null,
   "id": "1c4e8397-0953-4869-a938-82fdc0f3faf7",
   "metadata": {},
   "outputs": [],
   "source": []
  }
 ],
 "metadata": {
  "kernelspec": {
   "display_name": "Python 3 (ipykernel)",
   "language": "python",
   "name": "python3"
  },
  "language_info": {
   "codemirror_mode": {
    "name": "ipython",
    "version": 3
   },
   "file_extension": ".py",
   "mimetype": "text/x-python",
   "name": "python",
   "nbconvert_exporter": "python",
   "pygments_lexer": "ipython3",
   "version": "3.10.2"
  }
 },
 "nbformat": 4,
 "nbformat_minor": 5
}
