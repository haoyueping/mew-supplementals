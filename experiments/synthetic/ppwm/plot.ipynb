{
 "cells": [
  {
   "cell_type": "code",
   "execution_count": null,
   "id": "d07ac6d9-fdd5-44c7-b679-2369fc029c0a",
   "metadata": {},
   "outputs": [],
   "source": [
    "import numpy as np\n",
    "import pandas as pd\n",
    "\n",
    "import matplotlib.pyplot as plt\n",
    "import seaborn as sns"
   ]
  },
  {
   "cell_type": "code",
   "execution_count": null,
   "id": "1f9319ea-06c6-4d62-961d-09e446991c51",
   "metadata": {},
   "outputs": [],
   "source": [
    "df = pd.read_csv('experiment_output.tsv', sep='\\t')\n",
    "df.replace('Plurality', 'plurality', inplace=True)\n",
    "df.sample(n=5)"
   ]
  },
  {
   "cell_type": "code",
   "execution_count": null,
   "id": "310125d4-bc39-4750-bb4c-d783a42ab23d",
   "metadata": {},
   "outputs": [],
   "source": [
    "import matplotlib as mpl\n",
    "mpl.rcParams['mathtext.fontset'] = 'cm'\n",
    "mpl.rcParams['pdf.fonttype'] = 42\n",
    "mpl.rc('font', **{'size': 18})"
   ]
  },
  {
   "cell_type": "code",
   "execution_count": null,
   "id": "b749b009-5dc8-40c5-ae82-62542a7e5729",
   "metadata": {},
   "outputs": [],
   "source": [
    "savemode = False"
   ]
  },
  {
   "cell_type": "code",
   "execution_count": null,
   "id": "fc6464d8-3f28-481b-8b1b-c70cb5bcaa13",
   "metadata": {},
   "outputs": [],
   "source": [
    "dfx = df.query('m == 80 and n == 1000')\n",
    "plt.figure(dpi=120)\n",
    "sns.pointplot(x='num_buckets', y='t_total_sec', hue='rule', data=dfx, dodge=True, ci=0)\n",
    "plt.ylim(0.25, 20);\n",
    "plt.yscale('log', base=2)\n",
    "# plt.yticks([2, 4, 6, 8, 10, 12, 14])\n",
    "plt.xlabel('#partitions')\n",
    "plt.ylabel('time(s)')\n",
    "plt.legend(title='', ncol=3, loc=2, \n",
    "           borderpad=0.2, labelspacing=0.2, handlelength=1, \n",
    "           handletextpad=0.2, borderaxespad=0.2, columnspacing=0.5);\n",
    "plt.tight_layout(pad=0)\n",
    "if savemode:\n",
    "    plt.savefig('synthetic_ppwm_80_candidates_1000_voters__time_vs_k.pdf')"
   ]
  },
  {
   "cell_type": "code",
   "execution_count": null,
   "id": "e624c39e-a443-4e63-8844-451cc335e233",
   "metadata": {},
   "outputs": [],
   "source": [
    "dfx = df.query('num_buckets == 5 and n == 1000')\n",
    "plt.figure(dpi=120)\n",
    "sns.pointplot(x='m', y='t_total_sec', hue='rule', data=dfx, dodge=True)\n",
    "plt.ylim(0.03, 12);\n",
    "plt.yscale('log', base=2)\n",
    "# plt.yticks([2, 4, 6, 8, 10, 12, 14])\n",
    "plt.xlabel('#candidates')\n",
    "plt.ylabel('time(s)')\n",
    "plt.legend(title='', ncol=3, loc=2, \n",
    "           borderpad=0.2, labelspacing=0.2, handlelength=1, \n",
    "           handletextpad=0.2, borderaxespad=0.2, columnspacing=0.5);\n",
    "plt.tight_layout(pad=0)\n",
    "if savemode:\n",
    "    plt.savefig('synthetic_ppwm_1000_voters_5_partitions__time_vs_candidates.pdf')"
   ]
  },
  {
   "cell_type": "code",
   "execution_count": null,
   "id": "9ebf54a9-98da-4334-bcfa-4cd7c57130bb",
   "metadata": {},
   "outputs": [],
   "source": [
    "dfx"
   ]
  },
  {
   "cell_type": "code",
   "execution_count": null,
   "id": "85c37573-69c1-49c2-8a32-0dcf8b8e4c0a",
   "metadata": {},
   "outputs": [],
   "source": [
    "m = 80\n",
    "dfx = df.query(f'num_buckets == 5 and m == {m}').groupby(['n', 'rule'], as_index=False).mean()\n",
    "dfx['n'] += dfx['n'] * (np.random.random(dfx.shape[0]) - 0.5) * 0.1\n",
    "dfx['t_total_sec'] += dfx['t_total_sec'] * (np.random.random(dfx.shape[0]) - 0.5) * 0.1\n",
    "\n",
    "fig = plt.figure(dpi=120)\n",
    "ax = fig.add_subplot(111)\n",
    "\n",
    "for rule in ['plurality', '2-approval', 'Borda']:\n",
    "    dfy = dfx.query(f'rule == \"{rule}\"')\n",
    "    ax.scatter(dfy['n'], dfy['t_total_sec'], label=rule, s=60)\n",
    "    ax.plot(dfy['n'], dfy['t_total_sec'], linewidth=2.8)\n",
    "\n",
    "plt.xscale('log')\n",
    "plt.yscale('log')\n",
    "plt.xlabel('#voters')\n",
    "plt.ylabel('time(s)')\n",
    "plt.ylim(0.1, 1500)\n",
    "plt.legend(title='', ncol=3, loc=2, \n",
    "       borderpad=0.2, labelspacing=0.2, handlelength=1, \n",
    "       handletextpad=0.2, borderaxespad=0.2, columnspacing=0.5);\n",
    "plt.tight_layout(pad=0)\n",
    "if savemode:\n",
    "    plt.savefig(f'synthetic_ppwm_{m}_candidates_5_partitions__time_vs_voters.pdf')"
   ]
  },
  {
   "cell_type": "code",
   "execution_count": null,
   "id": "199c9f94-9d44-4f0a-9657-7e8da60c0ec9",
   "metadata": {},
   "outputs": [],
   "source": []
  }
 ],
 "metadata": {
  "kernelspec": {
   "display_name": "Python 3 (ipykernel)",
   "language": "python",
   "name": "python3"
  },
  "language_info": {
   "codemirror_mode": {
    "name": "ipython",
    "version": 3
   },
   "file_extension": ".py",
   "mimetype": "text/x-python",
   "name": "python",
   "nbconvert_exporter": "python",
   "pygments_lexer": "ipython3",
   "version": "3.10.2"
  }
 },
 "nbformat": 4,
 "nbformat_minor": 5
}
