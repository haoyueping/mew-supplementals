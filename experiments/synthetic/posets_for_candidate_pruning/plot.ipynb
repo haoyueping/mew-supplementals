{
 "cells": [
  {
   "cell_type": "code",
   "execution_count": null,
   "id": "cf08d12e-b4be-419f-94df-41bdd37764b3",
   "metadata": {},
   "outputs": [],
   "source": [
    "import pandas as pd\n",
    "\n",
    "import matplotlib.pyplot as plt\n",
    "import seaborn as sns"
   ]
  },
  {
   "cell_type": "code",
   "execution_count": null,
   "id": "69d05517-151b-47f8-8027-ed56963d4a26",
   "metadata": {},
   "outputs": [],
   "source": [
    "import matplotlib as mpl\n",
    "mpl.rcParams['mathtext.fontset'] = 'cm'\n",
    "mpl.rcParams['pdf.fonttype'] = 42\n",
    "mpl.rc('font', **{'size': 18})"
   ]
  },
  {
   "cell_type": "code",
   "execution_count": null,
   "id": "fba33745-2d91-44ab-b3de-d2545cb4c6c0",
   "metadata": {},
   "outputs": [],
   "source": [
    "df_off = pd.read_csv('experiment_output_of_no_grouping_and_no_pruning_sequential_baseline.tsv', sep='\\t').drop(columns=['pruning', 'grouping', 'winners', 'winner_score'])\n",
    "df_off.replace('Plurality', 'plurality', inplace=True)\n",
    "df_off.sample(n=5)"
   ]
  },
  {
   "cell_type": "code",
   "execution_count": null,
   "id": "4e63a7a3-93c0-4dc7-a4f5-a324f57ae286",
   "metadata": {},
   "outputs": [],
   "source": [
    "df_on = pd.read_csv('experiment_output_of_no_grouping_but_with_pruning.tsv', sep='\\t').drop(columns=['pruning', 'grouping', 'winners'])\n",
    "df_on.replace('Plurality', 'plurality', inplace=True)\n",
    "df_on.sample(n=5)"
   ]
  },
  {
   "cell_type": "code",
   "execution_count": null,
   "id": "c8654ffe-31fd-4d16-aa51-f358d9c4deb8",
   "metadata": {},
   "outputs": [],
   "source": [
    "df_merge = pd.merge(df_off, df_on)\n",
    "df_merge['speedup'] = df_merge['t_baseline_sec'] / df_merge['t_total_sec']\n",
    "df_merge.sample(n=5)"
   ]
  },
  {
   "cell_type": "code",
   "execution_count": null,
   "id": "0e81ead0-ffb9-4259-bc49-3991aad72d1e",
   "metadata": {},
   "outputs": [],
   "source": [
    "df_merge.groupby(['phi', 'pmax', 'rule']).count()"
   ]
  },
  {
   "cell_type": "code",
   "execution_count": null,
   "id": "88a5709e-745d-4839-ab23-6975094d5e00",
   "metadata": {},
   "outputs": [],
   "source": [
    "n = 10000\n",
    "dfx = df_merge.query(f'phi == 0.5 and n == {n}')\n",
    "plt.figure(dpi=120)\n",
    "sns.pointplot(x='pmax', y='speedup', hue='rule', data=dfx, ci=0);\n",
    "plt.ylim(0, 8.5)\n",
    "plt.xlabel('$p_{max}$')\n",
    "plt.legend(title='', ncol=3, loc=2, \n",
    "       borderpad=0.2, labelspacing=0.2, handlelength=1, \n",
    "       handletextpad=0.2, borderaxespad=0.2, columnspacing=0.5);\n",
    "plt.tight_layout(pad=0)\n",
    "# plt.savefig(f'synthetic_posets_10_candidates_{n}_voters__speedup_vs_pmax.pdf')"
   ]
  },
  {
   "cell_type": "code",
   "execution_count": null,
   "id": "21bba831-d582-463e-86e8-254ffdeee835",
   "metadata": {},
   "outputs": [],
   "source": []
  }
 ],
 "metadata": {
  "kernelspec": {
   "display_name": "Python 3 (ipykernel)",
   "language": "python",
   "name": "python3"
  },
  "language_info": {
   "codemirror_mode": {
    "name": "ipython",
    "version": 3
   },
   "file_extension": ".py",
   "mimetype": "text/x-python",
   "name": "python",
   "nbconvert_exporter": "python",
   "pygments_lexer": "ipython3",
   "version": "3.10.2"
  }
 },
 "nbformat": 4,
 "nbformat_minor": 5
}
